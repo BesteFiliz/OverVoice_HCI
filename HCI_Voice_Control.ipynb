{
 "cells": [
  {
   "cell_type": "markdown",
   "metadata": {},
   "source": [
    "# Voice Control Model"
   ]
  },
  {
   "cell_type": "markdown",
   "metadata": {},
   "source": [
    "## Importing Libraries"
   ]
  },
  {
   "cell_type": "code",
   "execution_count": 21,
   "metadata": {
    "collapsed": true
   },
   "outputs": [],
   "source": [
    "# General math and plotting libs\n",
    "import pandas as pd\n",
    "import matplotlib.pyplot as plt\n",
    "import numpy as np\n",
    "\n",
    "# Audio processing lib\n",
    "import librosa\n",
    "\n",
    "import os"
   ]
  },
  {
   "cell_type": "markdown",
   "metadata": {},
   "source": [
    "Link to online pinball game for simulation:<br>\n",
    "http://www.gamesxl.com/action/vanilla-pinball<br>\n",
    "Another game:<br>\n",
    "http://www.coolmath-games.com/0-jumpingarrows\n",
    "<br><br>\n",
    "Link to convert recorded audio to .wav format<br>\n",
    "https://online-audio-converter.com"
   ]
  },
  {
   "cell_type": "markdown",
   "metadata": {},
   "source": [
    "## Getting the Data"
   ]
  },
  {
   "cell_type": "code",
   "execution_count": 22,
   "metadata": {
    "scrolled": true
   },
   "outputs": [
    {
     "name": "stdout",
     "output_type": "stream",
     "text": [
      "b'../DirectionAudio/left1.wav'\n",
      "b'../DirectionAudio/left10.wav'\n",
      "b'../DirectionAudio/left11.wav'\n",
      "b'../DirectionAudio/left12.wav'\n",
      "b'../DirectionAudio/left13.wav'\n",
      "b'../DirectionAudio/left14.wav'\n",
      "b'../DirectionAudio/left15.wav'\n",
      "b'../DirectionAudio/left16.wav'\n",
      "b'../DirectionAudio/left17.wav'\n",
      "b'../DirectionAudio/left18.wav'\n",
      "b'../DirectionAudio/left19.wav'\n",
      "b'../DirectionAudio/left2.wav'\n",
      "b'../DirectionAudio/left20.wav'\n",
      "b'../DirectionAudio/left21.wav'\n",
      "b'../DirectionAudio/left22.wav'\n",
      "b'../DirectionAudio/left23.wav'\n",
      "b'../DirectionAudio/left24.wav'\n",
      "b'../DirectionAudio/left25.wav'\n",
      "b'../DirectionAudio/left3.wav'\n",
      "b'../DirectionAudio/left4.wav'\n",
      "b'../DirectionAudio/left5.wav'\n",
      "b'../DirectionAudio/left6.wav'\n",
      "b'../DirectionAudio/left7.wav'\n",
      "b'../DirectionAudio/left8.wav'\n",
      "b'../DirectionAudio/left9.wav'\n",
      "b'../DirectionAudio/left_le_1.wav'\n",
      "b'../DirectionAudio/left_le_2.wav'\n",
      "b'../DirectionAudio/left_le_3.wav'\n",
      "b'../DirectionAudio/left_le_4.wav'\n",
      "b'../DirectionAudio/left_le_5.wav'\n",
      "b'../DirectionAudio/left_n_1.wav'\n",
      "b'../DirectionAudio/left_n_10.wav'\n",
      "b'../DirectionAudio/left_n_2.wav'\n",
      "b'../DirectionAudio/left_n_3.wav'\n",
      "b'../DirectionAudio/left_n_4.wav'\n",
      "b'../DirectionAudio/left_n_5.wav'\n",
      "b'../DirectionAudio/left_n_6.wav'\n",
      "b'../DirectionAudio/left_n_7.wav'\n",
      "b'../DirectionAudio/left_n_8.wav'\n",
      "b'../DirectionAudio/left_n_9.wav'\n",
      "b'../DirectionAudio/left_sj_1.wav'\n",
      "b'../DirectionAudio/left_sj_2.wav'\n",
      "b'../DirectionAudio/left_sj_3.wav'\n",
      "b'../DirectionAudio/left_sj_4.wav'\n",
      "b'../DirectionAudio/left_sj_5.wav'\n",
      "b'../DirectionAudio/quiet1.wav'\n",
      "b'../DirectionAudio/quiet10.wav'\n",
      "b'../DirectionAudio/quiet2.wav'\n",
      "b'../DirectionAudio/quiet3.wav'\n",
      "b'../DirectionAudio/quiet4.wav'\n",
      "b'../DirectionAudio/quiet5.wav'\n",
      "b'../DirectionAudio/quiet6.wav'\n",
      "b'../DirectionAudio/quiet7.wav'\n",
      "b'../DirectionAudio/quiet8.wav'\n",
      "b'../DirectionAudio/quiet9.wav'\n",
      "b'../DirectionAudio/right1.wav'\n",
      "b'../DirectionAudio/right10.wav'\n",
      "b'../DirectionAudio/right11.wav'\n",
      "b'../DirectionAudio/right12.wav'\n",
      "b'../DirectionAudio/right13.wav'\n",
      "b'../DirectionAudio/right14.wav'\n",
      "b'../DirectionAudio/right15.wav'\n",
      "b'../DirectionAudio/right16.wav'\n",
      "b'../DirectionAudio/right17.wav'\n",
      "b'../DirectionAudio/right18.wav'\n",
      "b'../DirectionAudio/right19.wav'\n",
      "b'../DirectionAudio/right2.wav'\n",
      "b'../DirectionAudio/right20.wav'\n",
      "b'../DirectionAudio/right21.wav'\n",
      "b'../DirectionAudio/right22.wav'\n",
      "b'../DirectionAudio/right23.wav'\n",
      "b'../DirectionAudio/right24.wav'\n",
      "b'../DirectionAudio/right25.wav'\n",
      "b'../DirectionAudio/right26.wav'\n",
      "b'../DirectionAudio/right3.wav'\n",
      "b'../DirectionAudio/right4.wav'\n",
      "b'../DirectionAudio/right5.wav'\n",
      "b'../DirectionAudio/right6.wav'\n",
      "b'../DirectionAudio/right7.wav'\n",
      "b'../DirectionAudio/right8.wav'\n",
      "b'../DirectionAudio/right9.wav'\n",
      "b'../DirectionAudio/right_le_1.wav'\n",
      "b'../DirectionAudio/right_le_2.wav'\n",
      "b'../DirectionAudio/right_le_3.wav'\n",
      "b'../DirectionAudio/right_le_4.wav'\n",
      "b'../DirectionAudio/right_le_5.wav'\n",
      "b'../DirectionAudio/right_n_1.wav'\n",
      "b'../DirectionAudio/right_n_10.wav'\n",
      "b'../DirectionAudio/right_n_2.wav'\n",
      "b'../DirectionAudio/right_n_3.wav'\n",
      "b'../DirectionAudio/right_n_4.wav'\n",
      "b'../DirectionAudio/right_n_5.wav'\n",
      "b'../DirectionAudio/right_n_6.wav'\n",
      "b'../DirectionAudio/right_n_7.wav'\n",
      "b'../DirectionAudio/right_n_8.wav'\n",
      "b'../DirectionAudio/right_n_9.wav'\n",
      "b'../DirectionAudio/right_sj_1.wav'\n",
      "b'../DirectionAudio/right_sj_2.wav'\n",
      "b'../DirectionAudio/right_sj_3.wav'\n",
      "b'../DirectionAudio/right_sj_4.wav'\n",
      "b'../DirectionAudio/right_sj_5.wav'\n"
     ]
    }
   ],
   "source": [
    "dataset = pd.DataFrame()\n",
    "directory = os.fsencode('../DirectionAudio/')\n",
    "\n",
    "for file in os.listdir(directory):\n",
    "    filename = os.fsdecode(file)\n",
    "    if filename.startswith('left') and filename.endswith('.wav'):\n",
    "        print(os.path.join(directory,file))\n",
    "        data_left, sampling_rate_left = librosa.load(os.path.join(directory,file))\n",
    "        mfccs_mean_left = np.mean(librosa.feature.mfcc(y=data_left, sr=sampling_rate_left, n_mfcc=40).T,axis=0)\n",
    "        dataset = dataset.append([np.append(mfccs_mean_left,[1,0,0])])\n",
    "    elif filename.startswith('right') and filename.endswith('.wav'):\n",
    "        data_right, sampling_rate_right = librosa.load(os.path.join(directory,file))\n",
    "        mfccs_mean_right = np.mean(librosa.feature.mfcc(y=data_right, sr=sampling_rate_right, n_mfcc=40).T,axis=0)\n",
    "        dataset = dataset.append([np.append(mfccs_mean_right,[0,1,0])])\n",
    "        print(os.path.join(directory,file))\n",
    "    elif filename.startswith('quiet') and filename.endswith('.wav'):\n",
    "        data_quiet, sampling_rate_quiet = librosa.load(os.path.join(directory,file))\n",
    "        mfccs_mean_quiet = np.mean(librosa.feature.mfcc(y=data_quiet, sr=sampling_rate_quiet, n_mfcc=40).T,axis=0)\n",
    "        dataset = dataset.append([np.append(mfccs_mean_quiet,[0,0,1])])\n",
    "        print(os.path.join(directory,file))"
   ]
  },
  {
   "cell_type": "code",
   "execution_count": 23,
   "metadata": {},
   "outputs": [
    {
     "data": {
      "text/html": [
       "<div>\n",
       "<style scoped>\n",
       "    .dataframe tbody tr th:only-of-type {\n",
       "        vertical-align: middle;\n",
       "    }\n",
       "\n",
       "    .dataframe tbody tr th {\n",
       "        vertical-align: top;\n",
       "    }\n",
       "\n",
       "    .dataframe thead th {\n",
       "        text-align: right;\n",
       "    }\n",
       "</style>\n",
       "<table border=\"1\" class=\"dataframe\">\n",
       "  <thead>\n",
       "    <tr style=\"text-align: right;\">\n",
       "      <th></th>\n",
       "      <th>0</th>\n",
       "      <th>1</th>\n",
       "      <th>2</th>\n",
       "      <th>3</th>\n",
       "      <th>4</th>\n",
       "      <th>5</th>\n",
       "      <th>6</th>\n",
       "      <th>7</th>\n",
       "      <th>8</th>\n",
       "      <th>9</th>\n",
       "      <th>...</th>\n",
       "      <th>33</th>\n",
       "      <th>34</th>\n",
       "      <th>35</th>\n",
       "      <th>36</th>\n",
       "      <th>37</th>\n",
       "      <th>38</th>\n",
       "      <th>39</th>\n",
       "      <th>40</th>\n",
       "      <th>41</th>\n",
       "      <th>42</th>\n",
       "    </tr>\n",
       "  </thead>\n",
       "  <tbody>\n",
       "    <tr>\n",
       "      <th>0</th>\n",
       "      <td>-288.726619</td>\n",
       "      <td>93.892599</td>\n",
       "      <td>-15.389933</td>\n",
       "      <td>10.274669</td>\n",
       "      <td>-3.393598</td>\n",
       "      <td>7.298333</td>\n",
       "      <td>-1.401164</td>\n",
       "      <td>-19.125795</td>\n",
       "      <td>-17.020796</td>\n",
       "      <td>-12.495380</td>\n",
       "      <td>...</td>\n",
       "      <td>-1.851036</td>\n",
       "      <td>-3.123573</td>\n",
       "      <td>-2.055568</td>\n",
       "      <td>-2.017058</td>\n",
       "      <td>-3.753701</td>\n",
       "      <td>-4.313261</td>\n",
       "      <td>-3.216378</td>\n",
       "      <td>1.0</td>\n",
       "      <td>0.0</td>\n",
       "      <td>0.0</td>\n",
       "    </tr>\n",
       "    <tr>\n",
       "      <th>0</th>\n",
       "      <td>-429.301798</td>\n",
       "      <td>64.128178</td>\n",
       "      <td>-40.126702</td>\n",
       "      <td>7.746713</td>\n",
       "      <td>20.463285</td>\n",
       "      <td>5.440499</td>\n",
       "      <td>3.448309</td>\n",
       "      <td>-7.001011</td>\n",
       "      <td>-10.469566</td>\n",
       "      <td>-3.095748</td>\n",
       "      <td>...</td>\n",
       "      <td>-4.201741</td>\n",
       "      <td>-4.504744</td>\n",
       "      <td>-3.135810</td>\n",
       "      <td>-4.396649</td>\n",
       "      <td>-3.705075</td>\n",
       "      <td>-4.985896</td>\n",
       "      <td>-1.981040</td>\n",
       "      <td>1.0</td>\n",
       "      <td>0.0</td>\n",
       "      <td>0.0</td>\n",
       "    </tr>\n",
       "    <tr>\n",
       "      <th>0</th>\n",
       "      <td>-410.045220</td>\n",
       "      <td>117.487378</td>\n",
       "      <td>-28.330071</td>\n",
       "      <td>21.231326</td>\n",
       "      <td>18.668342</td>\n",
       "      <td>13.033760</td>\n",
       "      <td>7.315677</td>\n",
       "      <td>-11.429619</td>\n",
       "      <td>-15.532885</td>\n",
       "      <td>-8.375415</td>\n",
       "      <td>...</td>\n",
       "      <td>-3.895937</td>\n",
       "      <td>-3.000967</td>\n",
       "      <td>-5.143781</td>\n",
       "      <td>-3.346596</td>\n",
       "      <td>-4.273768</td>\n",
       "      <td>-6.199298</td>\n",
       "      <td>-4.568073</td>\n",
       "      <td>1.0</td>\n",
       "      <td>0.0</td>\n",
       "      <td>0.0</td>\n",
       "    </tr>\n",
       "    <tr>\n",
       "      <th>0</th>\n",
       "      <td>-477.020967</td>\n",
       "      <td>82.562815</td>\n",
       "      <td>-11.715563</td>\n",
       "      <td>8.372501</td>\n",
       "      <td>19.072891</td>\n",
       "      <td>10.195475</td>\n",
       "      <td>12.291642</td>\n",
       "      <td>-8.970161</td>\n",
       "      <td>-16.830773</td>\n",
       "      <td>-7.055139</td>\n",
       "      <td>...</td>\n",
       "      <td>-7.092507</td>\n",
       "      <td>-2.952451</td>\n",
       "      <td>-7.355587</td>\n",
       "      <td>-4.218381</td>\n",
       "      <td>-4.573473</td>\n",
       "      <td>-5.709709</td>\n",
       "      <td>-3.624939</td>\n",
       "      <td>1.0</td>\n",
       "      <td>0.0</td>\n",
       "      <td>0.0</td>\n",
       "    </tr>\n",
       "    <tr>\n",
       "      <th>0</th>\n",
       "      <td>-446.279339</td>\n",
       "      <td>96.153835</td>\n",
       "      <td>-27.320466</td>\n",
       "      <td>21.262665</td>\n",
       "      <td>3.398589</td>\n",
       "      <td>1.349921</td>\n",
       "      <td>12.963210</td>\n",
       "      <td>-12.153073</td>\n",
       "      <td>-19.508947</td>\n",
       "      <td>-0.186075</td>\n",
       "      <td>...</td>\n",
       "      <td>-3.995710</td>\n",
       "      <td>-2.954876</td>\n",
       "      <td>-8.280106</td>\n",
       "      <td>-4.333872</td>\n",
       "      <td>-5.477717</td>\n",
       "      <td>-8.561925</td>\n",
       "      <td>-5.286210</td>\n",
       "      <td>1.0</td>\n",
       "      <td>0.0</td>\n",
       "      <td>0.0</td>\n",
       "    </tr>\n",
       "  </tbody>\n",
       "</table>\n",
       "<p>5 rows × 43 columns</p>\n",
       "</div>"
      ],
      "text/plain": [
       "           0           1          2          3          4          5   \\\n",
       "0 -288.726619   93.892599 -15.389933  10.274669  -3.393598   7.298333   \n",
       "0 -429.301798   64.128178 -40.126702   7.746713  20.463285   5.440499   \n",
       "0 -410.045220  117.487378 -28.330071  21.231326  18.668342  13.033760   \n",
       "0 -477.020967   82.562815 -11.715563   8.372501  19.072891  10.195475   \n",
       "0 -446.279339   96.153835 -27.320466  21.262665   3.398589   1.349921   \n",
       "\n",
       "          6          7          8          9  ...         33        34  \\\n",
       "0  -1.401164 -19.125795 -17.020796 -12.495380 ...  -1.851036 -3.123573   \n",
       "0   3.448309  -7.001011 -10.469566  -3.095748 ...  -4.201741 -4.504744   \n",
       "0   7.315677 -11.429619 -15.532885  -8.375415 ...  -3.895937 -3.000967   \n",
       "0  12.291642  -8.970161 -16.830773  -7.055139 ...  -7.092507 -2.952451   \n",
       "0  12.963210 -12.153073 -19.508947  -0.186075 ...  -3.995710 -2.954876   \n",
       "\n",
       "         35        36        37        38        39   40   41   42  \n",
       "0 -2.055568 -2.017058 -3.753701 -4.313261 -3.216378  1.0  0.0  0.0  \n",
       "0 -3.135810 -4.396649 -3.705075 -4.985896 -1.981040  1.0  0.0  0.0  \n",
       "0 -5.143781 -3.346596 -4.273768 -6.199298 -4.568073  1.0  0.0  0.0  \n",
       "0 -7.355587 -4.218381 -4.573473 -5.709709 -3.624939  1.0  0.0  0.0  \n",
       "0 -8.280106 -4.333872 -5.477717 -8.561925 -5.286210  1.0  0.0  0.0  \n",
       "\n",
       "[5 rows x 43 columns]"
      ]
     },
     "execution_count": 23,
     "metadata": {},
     "output_type": "execute_result"
    }
   ],
   "source": [
    "dataset.head()"
   ]
  },
  {
   "cell_type": "code",
   "execution_count": 24,
   "metadata": {
    "collapsed": true
   },
   "outputs": [],
   "source": [
    "X = dataset.iloc[:,0:40].values\n",
    "y = dataset.iloc[:,-3:].values"
   ]
  },
  {
   "cell_type": "markdown",
   "metadata": {},
   "source": [
    "### Splitting data into training and testing sets"
   ]
  },
  {
   "cell_type": "code",
   "execution_count": 44,
   "metadata": {
    "collapsed": true
   },
   "outputs": [],
   "source": [
    "from sklearn.model_selection import train_test_split\n",
    "X_train,X_test, y_train, y_test = train_test_split(X,y,test_size = 0.1,random_state=0)"
   ]
  },
  {
   "cell_type": "markdown",
   "metadata": {},
   "source": [
    "## Creating the Deep Learning Model"
   ]
  },
  {
   "cell_type": "code",
   "execution_count": 45,
   "metadata": {},
   "outputs": [],
   "source": [
    "import keras\n",
    "from keras.models import Sequential\n",
    "from keras.layers import Dense"
   ]
  },
  {
   "cell_type": "code",
   "execution_count": 46,
   "metadata": {
    "collapsed": true
   },
   "outputs": [],
   "source": [
    "model = Sequential()"
   ]
  },
  {
   "cell_type": "code",
   "execution_count": 47,
   "metadata": {
    "collapsed": true
   },
   "outputs": [],
   "source": [
    "model.add(Dense(256, input_shape=(40,), activation='relu', kernel_initializer='uniform'))"
   ]
  },
  {
   "cell_type": "code",
   "execution_count": 48,
   "metadata": {
    "collapsed": true
   },
   "outputs": [],
   "source": [
    "model.add(Dense(256, activation='relu',kernel_initializer='uniform'))"
   ]
  },
  {
   "cell_type": "code",
   "execution_count": 49,
   "metadata": {
    "collapsed": true
   },
   "outputs": [],
   "source": [
    "model.add(Dense(3, activation='softmax',kernel_initializer='uniform'))"
   ]
  },
  {
   "cell_type": "markdown",
   "metadata": {},
   "source": [
    "### Compiling the Model"
   ]
  },
  {
   "cell_type": "code",
   "execution_count": 50,
   "metadata": {
    "collapsed": true
   },
   "outputs": [],
   "source": [
    "model.compile(loss='categorical_crossentropy',optimizer='adam',metrics=['accuracy'])"
   ]
  },
  {
   "cell_type": "markdown",
   "metadata": {},
   "source": [
    "### Fitting the Data to the Model"
   ]
  },
  {
   "cell_type": "code",
   "execution_count": 51,
   "metadata": {
    "scrolled": true
   },
   "outputs": [
    {
     "name": "stdout",
     "output_type": "stream",
     "text": [
      "Epoch 1/100\n",
      "90/90 [==============================] - 1s 7ms/step - loss: 1.7870 - acc: 0.3889\n",
      "Epoch 2/100\n",
      "90/90 [==============================] - 0s 4ms/step - loss: 0.9959 - acc: 0.5111\n",
      "Epoch 3/100\n",
      "90/90 [==============================] - 0s 5ms/step - loss: 0.8560 - acc: 0.5444\n",
      "Epoch 4/100\n",
      "90/90 [==============================] - 0s 4ms/step - loss: 0.6890 - acc: 0.6222\n",
      "Epoch 5/100\n",
      "90/90 [==============================] - 0s 4ms/step - loss: 0.4611 - acc: 0.8222\n",
      "Epoch 6/100\n",
      "90/90 [==============================] - 0s 4ms/step - loss: 0.4405 - acc: 0.8111\n",
      "Epoch 7/100\n",
      "90/90 [==============================] - 0s 4ms/step - loss: 0.3520 - acc: 0.8111\n",
      "Epoch 8/100\n",
      "90/90 [==============================] - 0s 5ms/step - loss: 0.3322 - acc: 0.8889\n",
      "Epoch 9/100\n",
      "90/90 [==============================] - 0s 3ms/step - loss: 0.2368 - acc: 0.9111\n",
      "Epoch 10/100\n",
      "90/90 [==============================] - 0s 5ms/step - loss: 0.2809 - acc: 0.9333\n",
      "Epoch 11/100\n",
      "90/90 [==============================] - 0s 5ms/step - loss: 0.3591 - acc: 0.8778\n",
      "Epoch 12/100\n",
      "90/90 [==============================] - 0s 4ms/step - loss: 0.2364 - acc: 0.9000\n",
      "Epoch 13/100\n",
      "90/90 [==============================] - 0s 4ms/step - loss: 0.3048 - acc: 0.9111\n",
      "Epoch 14/100\n",
      "90/90 [==============================] - 0s 4ms/step - loss: 0.2673 - acc: 0.9111\n",
      "Epoch 15/100\n",
      "90/90 [==============================] - 0s 3ms/step - loss: 0.2489 - acc: 0.9000\n",
      "Epoch 16/100\n",
      "90/90 [==============================] - 0s 4ms/step - loss: 0.1232 - acc: 0.9556\n",
      "Epoch 17/100\n",
      "90/90 [==============================] - 0s 3ms/step - loss: 0.0931 - acc: 0.9556\n",
      "Epoch 18/100\n",
      "90/90 [==============================] - 0s 5ms/step - loss: 0.0900 - acc: 0.9444\n",
      "Epoch 19/100\n",
      "90/90 [==============================] - 0s 3ms/step - loss: 0.0870 - acc: 0.9889\n",
      "Epoch 20/100\n",
      "90/90 [==============================] - 0s 5ms/step - loss: 0.2655 - acc: 0.9111\n",
      "Epoch 21/100\n",
      "90/90 [==============================] - 0s 4ms/step - loss: 0.1151 - acc: 0.9556\n",
      "Epoch 22/100\n",
      "90/90 [==============================] - 0s 4ms/step - loss: 0.1935 - acc: 0.9222\n",
      "Epoch 23/100\n",
      "90/90 [==============================] - 0s 4ms/step - loss: 0.1159 - acc: 0.9556\n",
      "Epoch 24/100\n",
      "90/90 [==============================] - 0s 4ms/step - loss: 0.0824 - acc: 0.9556\n",
      "Epoch 25/100\n",
      "90/90 [==============================] - 0s 4ms/step - loss: 0.0915 - acc: 0.9667\n",
      "Epoch 26/100\n",
      "90/90 [==============================] - 0s 4ms/step - loss: 0.0903 - acc: 0.9778\n",
      "Epoch 27/100\n",
      "90/90 [==============================] - 0s 4ms/step - loss: 0.1019 - acc: 0.9778\n",
      "Epoch 28/100\n",
      "90/90 [==============================] - 0s 4ms/step - loss: 0.0326 - acc: 0.9889\n",
      "Epoch 29/100\n",
      "90/90 [==============================] - 0s 4ms/step - loss: 0.2129 - acc: 0.9222\n",
      "Epoch 30/100\n",
      "90/90 [==============================] - 0s 4ms/step - loss: 0.1313 - acc: 0.9556\n",
      "Epoch 31/100\n",
      "90/90 [==============================] - 0s 4ms/step - loss: 0.0811 - acc: 0.9667\n",
      "Epoch 32/100\n",
      "90/90 [==============================] - 0s 4ms/step - loss: 0.0254 - acc: 0.9889\n",
      "Epoch 33/100\n",
      "90/90 [==============================] - 0s 5ms/step - loss: 0.1036 - acc: 0.9444\n",
      "Epoch 34/100\n",
      "90/90 [==============================] - 0s 4ms/step - loss: 0.0358 - acc: 0.9889\n",
      "Epoch 35/100\n",
      "90/90 [==============================] - 0s 4ms/step - loss: 0.0100 - acc: 1.0000\n",
      "Epoch 36/100\n",
      "90/90 [==============================] - 0s 4ms/step - loss: 0.0230 - acc: 0.9889\n",
      "Epoch 37/100\n",
      "90/90 [==============================] - 0s 4ms/step - loss: 0.1391 - acc: 0.9667\n",
      "Epoch 38/100\n",
      "90/90 [==============================] - 0s 4ms/step - loss: 0.0116 - acc: 1.0000\n",
      "Epoch 39/100\n",
      "90/90 [==============================] - 0s 4ms/step - loss: 0.2689 - acc: 0.9222\n",
      "Epoch 40/100\n",
      "90/90 [==============================] - 0s 4ms/step - loss: 0.0701 - acc: 0.9778\n",
      "Epoch 41/100\n",
      "90/90 [==============================] - 0s 3ms/step - loss: 0.1008 - acc: 0.9556\n",
      "Epoch 42/100\n",
      "90/90 [==============================] - 0s 3ms/step - loss: 0.0477 - acc: 0.9778\n",
      "Epoch 43/100\n",
      "90/90 [==============================] - 0s 4ms/step - loss: 0.1129 - acc: 0.9556\n",
      "Epoch 44/100\n",
      "90/90 [==============================] - 0s 4ms/step - loss: 0.1626 - acc: 0.9000\n",
      "Epoch 45/100\n",
      "90/90 [==============================] - 0s 4ms/step - loss: 0.0264 - acc: 1.0000\n",
      "Epoch 46/100\n",
      "90/90 [==============================] - 0s 4ms/step - loss: 0.0078 - acc: 1.0000\n",
      "Epoch 47/100\n",
      "90/90 [==============================] - 0s 4ms/step - loss: 0.0052 - acc: 1.0000\n",
      "Epoch 48/100\n",
      "90/90 [==============================] - 0s 4ms/step - loss: 0.0045 - acc: 1.0000\n",
      "Epoch 49/100\n",
      "90/90 [==============================] - 0s 4ms/step - loss: 0.0022 - acc: 1.0000\n",
      "Epoch 50/100\n",
      "90/90 [==============================] - 0s 4ms/step - loss: 0.0017 - acc: 1.0000\n",
      "Epoch 51/100\n",
      "90/90 [==============================] - 0s 4ms/step - loss: 0.0011 - acc: 1.0000\n",
      "Epoch 52/100\n",
      "90/90 [==============================] - 0s 4ms/step - loss: 0.0012 - acc: 1.0000\n",
      "Epoch 53/100\n",
      "90/90 [==============================] - 0s 4ms/step - loss: 8.1217e-04 - acc: 1.0000\n",
      "Epoch 54/100\n",
      "90/90 [==============================] - 0s 4ms/step - loss: 5.7746e-04 - acc: 1.0000\n",
      "Epoch 55/100\n",
      "90/90 [==============================] - 0s 4ms/step - loss: 5.3708e-04 - acc: 1.0000\n",
      "Epoch 56/100\n",
      "90/90 [==============================] - 0s 4ms/step - loss: 4.6632e-04 - acc: 1.0000\n",
      "Epoch 57/100\n",
      "90/90 [==============================] - 0s 3ms/step - loss: 3.7865e-04 - acc: 1.0000\n",
      "Epoch 58/100\n",
      "90/90 [==============================] - 0s 4ms/step - loss: 3.5183e-04 - acc: 1.0000\n",
      "Epoch 59/100\n",
      "90/90 [==============================] - 0s 4ms/step - loss: 3.1012e-04 - acc: 1.0000\n",
      "Epoch 60/100\n",
      "90/90 [==============================] - 0s 4ms/step - loss: 2.7278e-04 - acc: 1.0000\n",
      "Epoch 61/100\n",
      "90/90 [==============================] - 0s 4ms/step - loss: 2.4101e-04 - acc: 1.0000\n",
      "Epoch 62/100\n",
      "90/90 [==============================] - 0s 4ms/step - loss: 2.0614e-04 - acc: 1.0000\n",
      "Epoch 63/100\n",
      "90/90 [==============================] - 0s 3ms/step - loss: 2.0255e-04 - acc: 1.0000\n",
      "Epoch 64/100\n",
      "90/90 [==============================] - 0s 3ms/step - loss: 1.7711e-04 - acc: 1.0000\n",
      "Epoch 65/100\n",
      "90/90 [==============================] - 0s 4ms/step - loss: 1.6009e-04 - acc: 1.0000\n",
      "Epoch 66/100\n",
      "90/90 [==============================] - 0s 4ms/step - loss: 1.4056e-04 - acc: 1.0000\n",
      "Epoch 67/100\n",
      "90/90 [==============================] - 0s 4ms/step - loss: 1.3604e-04 - acc: 1.0000\n",
      "Epoch 68/100\n",
      "90/90 [==============================] - 0s 4ms/step - loss: 1.2170e-04 - acc: 1.0000\n",
      "Epoch 69/100\n",
      "90/90 [==============================] - 0s 4ms/step - loss: 1.2213e-04 - acc: 1.0000\n",
      "Epoch 70/100\n",
      "90/90 [==============================] - 0s 3ms/step - loss: 1.1053e-04 - acc: 1.0000\n",
      "Epoch 71/100\n",
      "90/90 [==============================] - 0s 4ms/step - loss: 9.0057e-05 - acc: 1.0000\n",
      "Epoch 72/100\n",
      "90/90 [==============================] - 0s 4ms/step - loss: 8.1159e-05 - acc: 1.0000\n",
      "Epoch 73/100\n",
      "90/90 [==============================] - 0s 4ms/step - loss: 7.5273e-05 - acc: 1.0000\n",
      "Epoch 74/100\n",
      "90/90 [==============================] - 0s 4ms/step - loss: 7.6320e-05 - acc: 1.0000\n",
      "Epoch 75/100\n",
      "90/90 [==============================] - 0s 4ms/step - loss: 6.9053e-05 - acc: 1.0000\n",
      "Epoch 76/100\n",
      "90/90 [==============================] - 0s 4ms/step - loss: 6.0292e-05 - acc: 1.0000\n",
      "Epoch 77/100\n",
      "90/90 [==============================] - 0s 3ms/step - loss: 5.9538e-05 - acc: 1.0000\n",
      "Epoch 78/100\n",
      "90/90 [==============================] - 0s 4ms/step - loss: 5.2665e-05 - acc: 1.0000\n",
      "Epoch 79/100\n",
      "90/90 [==============================] - 0s 4ms/step - loss: 4.9779e-05 - acc: 1.0000\n",
      "Epoch 80/100\n",
      "90/90 [==============================] - 0s 4ms/step - loss: 4.8039e-05 - acc: 1.0000\n",
      "Epoch 81/100\n",
      "90/90 [==============================] - 0s 4ms/step - loss: 4.3073e-05 - acc: 1.0000\n",
      "Epoch 82/100\n",
      "90/90 [==============================] - 0s 4ms/step - loss: 3.7722e-05 - acc: 1.0000\n",
      "Epoch 83/100\n",
      "90/90 [==============================] - 0s 4ms/step - loss: 3.6146e-05 - acc: 1.0000\n",
      "Epoch 84/100\n",
      "90/90 [==============================] - 0s 4ms/step - loss: 3.4970e-05 - acc: 1.0000\n",
      "Epoch 85/100\n"
     ]
    },
    {
     "name": "stdout",
     "output_type": "stream",
     "text": [
      "90/90 [==============================] - 0s 4ms/step - loss: 3.3805e-05 - acc: 1.0000\n",
      "Epoch 86/100\n",
      "90/90 [==============================] - 0s 3ms/step - loss: 3.0979e-05 - acc: 1.0000\n",
      "Epoch 87/100\n",
      "90/90 [==============================] - 0s 3ms/step - loss: 3.0732e-05 - acc: 1.0000\n",
      "Epoch 88/100\n",
      "90/90 [==============================] - 0s 4ms/step - loss: 2.6974e-05 - acc: 1.0000\n",
      "Epoch 89/100\n",
      "90/90 [==============================] - 0s 4ms/step - loss: 2.5989e-05 - acc: 1.0000\n",
      "Epoch 90/100\n",
      "90/90 [==============================] - 0s 4ms/step - loss: 2.4962e-05 - acc: 1.0000\n",
      "Epoch 91/100\n",
      "90/90 [==============================] - 0s 4ms/step - loss: 2.2611e-05 - acc: 1.0000\n",
      "Epoch 92/100\n",
      "90/90 [==============================] - 0s 5ms/step - loss: 2.0599e-05 - acc: 1.0000\n",
      "Epoch 93/100\n",
      "90/90 [==============================] - 0s 4ms/step - loss: 1.8615e-05 - acc: 1.0000\n",
      "Epoch 94/100\n",
      "90/90 [==============================] - 0s 4ms/step - loss: 1.7827e-05 - acc: 1.0000\n",
      "Epoch 95/100\n",
      "90/90 [==============================] - 0s 5ms/step - loss: 1.7537e-05 - acc: 1.0000\n",
      "Epoch 96/100\n",
      "90/90 [==============================] - 0s 4ms/step - loss: 1.6195e-05 - acc: 1.0000\n",
      "Epoch 97/100\n",
      "90/90 [==============================] - 0s 4ms/step - loss: 1.5559e-05 - acc: 1.0000\n",
      "Epoch 98/100\n",
      "90/90 [==============================] - 0s 4ms/step - loss: 1.4723e-05 - acc: 1.0000\n",
      "Epoch 99/100\n",
      "90/90 [==============================] - 0s 4ms/step - loss: 1.3734e-05 - acc: 1.0000\n",
      "Epoch 100/100\n",
      "90/90 [==============================] - 0s 4ms/step - loss: 1.2169e-05 - acc: 1.0000\n"
     ]
    },
    {
     "data": {
      "text/plain": [
       "<keras.callbacks.History at 0x1c1f2a9128>"
      ]
     },
     "execution_count": 51,
     "metadata": {},
     "output_type": "execute_result"
    }
   ],
   "source": [
    "model.fit(X_train,y_train, batch_size=1, epochs=100)"
   ]
  },
  {
   "cell_type": "markdown",
   "metadata": {},
   "source": [
    "### Predicting the value using the Test set"
   ]
  },
  {
   "cell_type": "code",
   "execution_count": 52,
   "metadata": {},
   "outputs": [
    {
     "data": {
      "text/plain": [
       "array([[1.0000000e+00, 7.5693520e-14, 2.4941692e-15],\n",
       "       [4.1082367e-01, 5.8915257e-01, 2.3717013e-05],\n",
       "       [9.9998939e-01, 1.0548004e-05, 1.0551082e-07],\n",
       "       [9.9999976e-01, 1.8717735e-07, 1.2042297e-08],\n",
       "       [2.6246462e-02, 9.7339880e-01, 3.5475325e-04],\n",
       "       [4.5116607e-13, 1.0000000e+00, 2.6394362e-16],\n",
       "       [9.9999881e-01, 1.1745111e-06, 4.7419566e-09],\n",
       "       [2.0584170e-07, 9.9999976e-01, 7.0219153e-10],\n",
       "       [3.9304785e-11, 5.0066834e-10, 1.0000000e+00],\n",
       "       [7.0070417e-04, 9.9929559e-01, 3.6364361e-06],\n",
       "       [4.0658113e-10, 9.1372424e-11, 1.0000000e+00]], dtype=float32)"
      ]
     },
     "execution_count": 52,
     "metadata": {},
     "output_type": "execute_result"
    }
   ],
   "source": [
    "y_pred = model.predict(X_test)\n",
    "y_pred"
   ]
  },
  {
   "cell_type": "code",
   "execution_count": 53,
   "metadata": {
    "scrolled": true
   },
   "outputs": [
    {
     "data": {
      "text/plain": [
       "array([[1., 0., 0.],\n",
       "       [0., 1., 0.],\n",
       "       [1., 0., 0.],\n",
       "       [0., 1., 0.],\n",
       "       [0., 1., 0.],\n",
       "       [0., 1., 0.],\n",
       "       [1., 0., 0.],\n",
       "       [0., 1., 0.],\n",
       "       [0., 0., 1.],\n",
       "       [0., 1., 0.],\n",
       "       [0., 0., 1.]])"
      ]
     },
     "execution_count": 53,
     "metadata": {},
     "output_type": "execute_result"
    }
   ],
   "source": [
    "y_test"
   ]
  },
  {
   "cell_type": "code",
   "execution_count": 54,
   "metadata": {
    "collapsed": true
   },
   "outputs": [],
   "source": [
    "y_pred[y_pred>0.7]=1\n",
    "y_pred[y_pred<=0.7]=0"
   ]
  },
  {
   "cell_type": "code",
   "execution_count": 55,
   "metadata": {},
   "outputs": [
    {
     "data": {
      "text/plain": [
       "array([[1., 0., 0.],\n",
       "       [0., 0., 0.],\n",
       "       [1., 0., 0.],\n",
       "       [1., 0., 0.],\n",
       "       [0., 1., 0.],\n",
       "       [0., 1., 0.],\n",
       "       [1., 0., 0.],\n",
       "       [0., 1., 0.],\n",
       "       [0., 0., 1.],\n",
       "       [0., 1., 0.],\n",
       "       [0., 0., 1.]], dtype=float32)"
      ]
     },
     "execution_count": 55,
     "metadata": {},
     "output_type": "execute_result"
    }
   ],
   "source": [
    "y_pred"
   ]
  },
  {
   "cell_type": "code",
   "execution_count": 56,
   "metadata": {},
   "outputs": [
    {
     "data": {
      "text/plain": [
       "array([[ True,  True,  True],\n",
       "       [ True, False,  True],\n",
       "       [ True,  True,  True],\n",
       "       [False, False,  True],\n",
       "       [ True,  True,  True],\n",
       "       [ True,  True,  True],\n",
       "       [ True,  True,  True],\n",
       "       [ True,  True,  True],\n",
       "       [ True,  True,  True],\n",
       "       [ True,  True,  True],\n",
       "       [ True,  True,  True]])"
      ]
     },
     "execution_count": 56,
     "metadata": {},
     "output_type": "execute_result"
    }
   ],
   "source": [
    "acc_array = y_test == y_pred\n",
    "acc_array"
   ]
  },
  {
   "cell_type": "code",
   "execution_count": 57,
   "metadata": {
    "scrolled": true
   },
   "outputs": [
    {
     "data": {
      "text/plain": [
       "array([ True, False,  True, False,  True,  True,  True,  True,  True,\n",
       "        True,  True])"
      ]
     },
     "execution_count": 57,
     "metadata": {},
     "output_type": "execute_result"
    }
   ],
   "source": [
    "acc_array.all(axis=1)"
   ]
  },
  {
   "cell_type": "code",
   "execution_count": 58,
   "metadata": {},
   "outputs": [
    {
     "data": {
      "text/plain": [
       "90.9090909090909"
      ]
     },
     "execution_count": 58,
     "metadata": {},
     "output_type": "execute_result"
    }
   ],
   "source": [
    "accuracy_test = (np.count_nonzero(acc_array == True)/acc_array.size)*100\n",
    "accuracy_test"
   ]
  },
  {
   "cell_type": "markdown",
   "metadata": {},
   "source": [
    "## Real Time Voice Processing"
   ]
  },
  {
   "cell_type": "code",
   "execution_count": 59,
   "metadata": {
    "collapsed": true
   },
   "outputs": [],
   "source": [
    "from pyaudio import PyAudio\n",
    "import pyaudio\n",
    "import wave"
   ]
  },
  {
   "cell_type": "code",
   "execution_count": 60,
   "metadata": {},
   "outputs": [],
   "source": [
    "FORMAT = pyaudio.paInt16\n",
    "CHANNELS = 1\n",
    "# RATE = 44100\n",
    "# Rate unit: Hz: Samples/seccond\n",
    "RATE = 30000\n",
    "# CHUNK = 1024\n",
    "CHUNK = 1024*8\n",
    "# Chunk unit: bytes\n",
    "RECORD_SECONDS = 0.8\n",
    "WAVE_OUTPUT_FILENAME = \"direction.wav\""
   ]
  },
  {
   "cell_type": "code",
   "execution_count": 63,
   "metadata": {
    "scrolled": true
   },
   "outputs": [
    {
     "name": "stdout",
     "output_type": "stream",
     "text": [
      "recording...\n",
      "finished recording\n",
      "[[9.719468e-01 5.618622e-09 2.805331e-02]]\n",
      "recording...\n",
      "finished recording\n",
      "[[1.0206233e-13 7.5534370e-16 1.0000000e+00]]\n",
      "recording...\n",
      "finished recording\n",
      "[[1.0000000e+00 1.3459071e-10 5.8350974e-08]]\n",
      "recording...\n",
      "finished recording\n",
      "[[1.1212316e-03 9.9883503e-01 4.3647018e-05]]\n",
      "recording...\n",
      "finished recording\n",
      "[[9.8195076e-01 1.7946778e-02 1.0245768e-04]]\n",
      "recording...\n",
      "finished recording\n",
      "[[1.0000000e+00 2.1415134e-15 4.0209937e-15]]\n",
      "recording...\n",
      "finished recording\n",
      "[[1.0000000e+00 1.7950098e-15 1.3935951e-14]]\n",
      "recording...\n",
      "finished recording\n",
      "[[1.0000000e+00 3.5070116e-08 8.8630853e-10]]\n",
      "recording...\n",
      "finished recording\n",
      "[[9.9924743e-01 7.0557010e-04 4.7098354e-05]]\n",
      "recording...\n",
      "finished recording\n",
      "[[9.6079042e-05 9.9990380e-01 1.7312253e-07]]\n",
      "recording...\n",
      "finished recording\n",
      "[[4.5030797e-04 1.6913737e-07 9.9954945e-01]]\n",
      "recording...\n",
      "finished recording\n",
      "[[9.5341015e-01 5.0386132e-07 4.6589371e-02]]\n",
      "recording...\n",
      "finished recording\n",
      "[[1.0000000e+00 1.9690033e-13 2.7084078e-11]]\n",
      "recording...\n",
      "finished recording\n",
      "[[0.0007603  0.45072895 0.5485108 ]]\n",
      "recording...\n",
      "finished recording\n",
      "[[1.000000e+00 4.451748e-09 9.918387e-10]]\n",
      "recording...\n",
      "finished recording\n",
      "[[6.3620848e-13 1.0000000e+00 6.7580976e-12]]\n",
      "recording...\n",
      "finished recording\n",
      "[[8.6499993e-03 1.6884762e-05 9.9133307e-01]]\n",
      "recording...\n",
      "finished recording\n",
      "[[1.000000e+00 7.058900e-21 6.026721e-16]]\n",
      "recording...\n",
      "finished recording\n",
      "[[3.9172983e-01 6.0822630e-01 4.3874701e-05]]\n",
      "recording...\n",
      "finished recording\n",
      "[[1.0000000e+00 4.7003170e-12 1.4801399e-13]]\n",
      "recording...\n",
      "finished recording\n",
      "[[8.5087076e-02 4.1027975e-05 9.1487193e-01]]\n",
      "recording...\n",
      "finished recording\n",
      "[[1.0000000e+00 5.1538633e-17 5.0158007e-18]]\n",
      "recording...\n",
      "finished recording\n",
      "[[9.9999905e-01 1.0109214e-06 1.8275206e-10]]\n",
      "recording...\n",
      "finished recording\n",
      "[[9.9999273e-01 7.2660696e-06 5.3253135e-09]]\n",
      "recording...\n",
      "finished recording\n",
      "[[9.9999917e-01 8.0937832e-07 2.2427660e-11]]\n",
      "recording...\n",
      "finished recording\n",
      "[[9.9999952e-01 4.8112867e-07 1.1689788e-09]]\n",
      "recording...\n",
      "finished recording\n",
      "[[1.0000000e+00 8.2814454e-15 8.4246956e-17]]\n",
      "recording...\n",
      "finished recording\n",
      "[[5.6997109e-03 5.1844685e-04 9.9378186e-01]]\n",
      "recording...\n",
      "finished recording\n",
      "[[9.9997067e-01 9.3468122e-09 2.9350253e-05]]\n",
      "recording...\n",
      "finished recording\n",
      "[[9.9948680e-01 1.3827474e-06 5.1177939e-04]]\n",
      "recording...\n",
      "finished recording\n",
      "[[9.8763418e-01 1.2362534e-02 3.2675159e-06]]\n",
      "recording...\n",
      "finished recording\n",
      "[[1.0000000e+00 1.3671628e-09 8.4350965e-10]]\n",
      "recording...\n",
      "finished recording\n",
      "[[1.0000000e+00 1.5119043e-19 1.6899450e-12]]\n",
      "recording...\n",
      "finished recording\n",
      "[[3.4328422e-01 3.3800792e-11 6.5671581e-01]]\n",
      "recording...\n",
      "finished recording\n",
      "[[4.6534106e-04 9.9797028e-01 1.5643361e-03]]\n",
      "recording...\n",
      "finished recording\n",
      "[[1.0000000e+00 1.7394426e-25 2.9220523e-27]]\n",
      "recording...\n",
      "finished recording\n",
      "[[3.2693276e-10 9.3924915e-14 1.0000000e+00]]\n",
      "recording...\n",
      "finished recording\n",
      "[[6.0501566e-13 2.1093661e-15 1.0000000e+00]]\n",
      "recording...\n",
      "finished recording\n",
      "[[5.0690088e-09 1.3786478e-13 1.0000000e+00]]\n",
      "recording...\n",
      "finished recording\n",
      "[[9.9655545e-01 3.8936254e-11 3.4445289e-03]]\n",
      "recording...\n",
      "finished recording\n",
      "[[9.9999976e-01 1.5797201e-07 1.3148878e-07]]\n",
      "recording...\n",
      "finished recording\n",
      "[[7.432009e-01 6.416984e-07 2.567985e-01]]\n",
      "recording...\n",
      "finished recording\n",
      "[[1.0000000e+00 1.0236583e-10 3.9998937e-09]]\n",
      "recording...\n",
      "finished recording\n",
      "[[1.1547945e-06 3.5405234e-09 9.9999881e-01]]\n",
      "recording...\n",
      "finished recording\n",
      "[[9.999908e-01 1.912365e-11 9.213756e-06]]\n",
      "recording...\n",
      "finished recording\n",
      "[[1.6340006e-03 4.3731001e-05 9.9832231e-01]]\n",
      "recording...\n",
      "finished recording\n",
      "[[1.8049147e-11 2.7128851e-11 1.0000000e+00]]\n",
      "recording...\n",
      "finished recording\n",
      "[[0.11171885 0.00316356 0.8851176 ]]\n",
      "recording...\n",
      "finished recording\n",
      "[[1.029920e-09 3.059078e-13 1.000000e+00]]\n",
      "recording...\n",
      "finished recording\n",
      "[[9.9731207e-01 3.5642792e-04 2.3315314e-03]]\n",
      "recording...\n",
      "finished recording\n",
      "[[6.8738401e-15 1.0000000e+00 4.8935207e-18]]\n",
      "recording...\n",
      "finished recording\n",
      "[[9.9999893e-01 1.0876157e-06 2.4240217e-08]]\n",
      "recording...\n",
      "finished recording\n",
      "[[2.3507973e-02 9.7649199e-01 9.5568508e-13]]\n",
      "recording...\n",
      "finished recording\n",
      "[[2.4715977e-16 1.0000000e+00 1.8177473e-17]]\n",
      "recording...\n",
      "finished recording\n",
      "[[1.0000000e+00 3.3064767e-18 3.0168383e-16]]\n",
      "recording...\n",
      "finished recording\n",
      "[[7.5638801e-01 5.6772329e-08 2.4361187e-01]]\n",
      "recording...\n",
      "finished recording\n",
      "[[0.0044861  0.04080603 0.9547079 ]]\n",
      "recording...\n",
      "finished recording\n",
      "[[1.000000e+00 1.031058e-09 9.840695e-10]]\n",
      "recording...\n",
      "finished recording\n",
      "[[1.0000000e+00 1.5442051e-15 2.4249358e-19]]\n",
      "recording...\n",
      "finished recording\n",
      "[[1.0000000e+00 1.0106579e-29 2.7135967e-24]]\n",
      "recording...\n",
      "finished recording\n",
      "[[1.000000e+00 9.828881e-13 5.029069e-14]]\n",
      "recording...\n",
      "finished recording\n",
      "[[1.0000000e+00 4.2737363e-29 6.4150802e-35]]\n",
      "recording...\n",
      "finished recording\n",
      "[[1.0000000e+00 2.3679303e-12 6.8370000e-13]]\n",
      "recording...\n",
      "finished recording\n",
      "[[1.0000000e+00 2.3708937e-13 2.4569154e-15]]\n",
      "recording...\n",
      "finished recording\n",
      "[[8.4438312e-01 1.3966030e-04 1.5547721e-01]]\n",
      "recording...\n",
      "finished recording\n",
      "[[1.0000000e+00 2.5691440e-08 3.1774985e-10]]\n",
      "recording...\n",
      "finished recording\n",
      "[[1.4439756e-07 9.9998343e-01 1.6392547e-05]]\n",
      "recording...\n",
      "finished recording\n",
      "[[1.0000000e+00 1.5292096e-08 5.4831792e-11]]\n",
      "recording...\n",
      "finished recording\n",
      "[[7.0319622e-08 9.9999988e-01 1.6561655e-15]]\n",
      "recording...\n",
      "finished recording\n",
      "[[9.990477e-01 9.245921e-04 2.773562e-05]]\n",
      "recording...\n",
      "finished recording\n",
      "[[1.000000e+00 3.636515e-10 6.713206e-13]]\n",
      "recording...\n",
      "finished recording\n",
      "[[1.1019579e-10 1.0000000e+00 1.6837603e-13]]\n",
      "recording...\n",
      "finished recording\n",
      "[[1.4019352e-04 9.3367034e-01 6.6189401e-02]]\n",
      "recording...\n",
      "finished recording\n",
      "[[9.9999452e-01 5.0445628e-06 4.4319623e-07]]\n",
      "recording...\n",
      "finished recording\n",
      "[[9.9999988e-01 9.8203039e-08 3.4351803e-08]]\n",
      "recording...\n",
      "finished recording\n",
      "[[8.2363353e-05 1.9250037e-07 9.9991739e-01]]\n",
      "recording...\n",
      "finished recording\n",
      "[[9.9969161e-01 1.6467499e-04 1.4376623e-04]]\n",
      "recording...\n",
      "finished recording\n",
      "[[9.8409742e-01 1.4150958e-08 1.5902547e-02]]\n",
      "recording...\n",
      "finished recording\n",
      "[[9.9999988e-01 1.6566952e-07 1.4476103e-09]]\n",
      "recording...\n",
      "finished recording\n",
      "[[6.0692811e-01 3.9289677e-01 1.7517968e-04]]\n",
      "recording...\n",
      "finished recording\n",
      "[[9.9766040e-01 2.3380804e-03 1.5452064e-06]]\n",
      "recording...\n",
      "finished recording\n",
      "[[9.9917501e-01 1.6816778e-04 6.5672817e-04]]\n",
      "recording...\n",
      "finished recording\n",
      "[[1.0000000e+00 2.3201627e-10 1.5947582e-12]]\n",
      "recording...\n",
      "finished recording\n",
      "[[9.9999952e-01 2.8809905e-14 4.2497052e-07]]\n",
      "recording...\n",
      "finished recording\n",
      "[[9.0435863e-01 1.1762144e-08 9.5641360e-02]]\n",
      "recording...\n",
      "finished recording\n",
      "[[9.9999988e-01 6.2006208e-08 1.0503874e-09]]\n",
      "recording...\n",
      "finished recording\n",
      "[[1.0000000e+00 2.6868739e-19 1.7426226e-19]]\n",
      "recording...\n",
      "finished recording\n",
      "[[3.5062053e-03 2.3804591e-07 9.9649352e-01]]\n",
      "recording...\n",
      "finished recording\n",
      "[[1.14316764e-10 5.82087871e-16 1.00000000e+00]]\n",
      "recording...\n",
      "finished recording\n",
      "[[1.0000000e+00 2.0861553e-19 2.0140288e-17]]\n",
      "recording...\n",
      "finished recording\n",
      "[[9.9977118e-01 3.0161725e-15 2.2887366e-04]]\n",
      "recording...\n",
      "finished recording\n",
      "[[9.9907398e-01 1.4186041e-14 9.2595629e-04]]\n",
      "recording...\n",
      "finished recording\n",
      "[[8.3025223e-01 4.7408716e-11 1.6974777e-01]]\n",
      "recording...\n",
      "finished recording\n",
      "[[1.0000000e+00 6.9380651e-23 7.7173574e-23]]\n",
      "recording...\n",
      "finished recording\n",
      "[[3.5510422e-10 3.1831013e-15 1.0000000e+00]]\n",
      "recording...\n",
      "finished recording\n",
      "[[1.0000000e+00 5.9569303e-19 1.5385740e-20]]\n",
      "recording...\n",
      "finished recording\n",
      "[[3.0133029e-07 7.0211903e-14 9.9999964e-01]]\n",
      "recording...\n",
      "finished recording\n",
      "[[4.284619e-02 3.200439e-11 9.571538e-01]]\n",
      "recording...\n",
      "finished recording\n",
      "[[6.1041877e-02 2.1722154e-11 9.3895817e-01]]\n",
      "recording...\n",
      "finished recording\n",
      "[[2.0143530e-08 1.4137489e-11 1.0000000e+00]]\n",
      "recording...\n",
      "finished recording\n",
      "[[1.1888832e-10 1.0367817e-15 1.0000000e+00]]\n",
      "recording...\n",
      "finished recording\n",
      "[[8.3220267e-01 9.0044523e-09 1.6779734e-01]]\n",
      "recording...\n",
      "finished recording\n",
      "[[1.0617708e-06 2.8950106e-12 9.9999893e-01]]\n",
      "recording...\n",
      "finished recording\n",
      "[[2.9397511e-12 7.4305584e-13 1.0000000e+00]]\n",
      "recording...\n",
      "finished recording\n",
      "[[3.2237807e-08 2.6961703e-12 1.0000000e+00]]\n",
      "recording...\n",
      "finished recording\n",
      "[[4.9821441e-10 1.7346218e-14 1.0000000e+00]]\n",
      "recording...\n"
     ]
    },
    {
     "name": "stdout",
     "output_type": "stream",
     "text": [
      "finished recording\n",
      "[[2.3001335e-06 1.8831271e-12 9.9999774e-01]]\n",
      "recording...\n",
      "finished recording\n",
      "[[3.1958769e-11 2.6796822e-16 1.0000000e+00]]\n",
      "recording...\n",
      "finished recording\n",
      "[[1.5826132e-03 2.5996937e-12 9.9841738e-01]]\n",
      "recording...\n",
      "finished recording\n",
      "[[2.0757946e-09 2.3551873e-16 1.0000000e+00]]\n",
      "recording...\n",
      "finished recording\n",
      "[[7.69582661e-11 1.20526495e-14 1.00000000e+00]]\n",
      "recording...\n",
      "finished recording\n",
      "[[7.294546e-01 1.120632e-09 2.705454e-01]]\n",
      "recording...\n",
      "finished recording\n",
      "[[2.0661716e-07 1.4637901e-07 9.9999964e-01]]\n",
      "recording...\n",
      "finished recording\n",
      "[[1.3277202e-08 9.7854608e-01 2.1453870e-02]]\n",
      "recording...\n",
      "finished recording\n",
      "[[2.1253582e-08 1.0000000e+00 3.2995366e-09]]\n",
      "recording...\n",
      "finished recording\n",
      "[[3.5805630e-03 5.2257783e-05 9.9636722e-01]]\n",
      "recording...\n",
      "finished recording\n",
      "[[1.3847995e-05 4.0169543e-06 9.9998212e-01]]\n",
      "recording...\n",
      "finished recording\n",
      "[[9.9999988e-01 2.3428351e-12 1.2109007e-07]]\n",
      "recording...\n",
      "finished recording\n",
      "[[1.000000e+00 5.614371e-09 5.891612e-10]]\n",
      "recording...\n",
      "finished recording\n",
      "[[1.6964583e-09 5.0666600e-09 1.0000000e+00]]\n",
      "recording...\n",
      "finished recording\n",
      "[[2.1356913e-01 3.4655295e-07 7.8643048e-01]]\n",
      "recording...\n",
      "finished recording\n",
      "[[8.3828062e-01 5.1553041e-05 1.6166778e-01]]\n",
      "recording...\n",
      "finished recording\n",
      "[[0.98159665 0.00120409 0.01719926]]\n",
      "recording...\n",
      "finished recording\n",
      "[[8.9849518e-06 1.2477284e-07 9.9999094e-01]]\n",
      "recording...\n",
      "finished recording\n",
      "[[9.9372673e-01 2.4359701e-09 6.2732548e-03]]\n",
      "recording...\n",
      "finished recording\n",
      "[[9.9936587e-01 3.4949317e-06 6.3071359e-04]]\n",
      "recording...\n"
     ]
    },
    {
     "ename": "KeyboardInterrupt",
     "evalue": "",
     "output_type": "error",
     "traceback": [
      "\u001b[0;31m---------------------------------------------------------------------------\u001b[0m",
      "\u001b[0;31mKeyboardInterrupt\u001b[0m                         Traceback (most recent call last)",
      "\u001b[0;32m<ipython-input-63-eaaa99c56825>\u001b[0m in \u001b[0;36m<module>\u001b[0;34m()\u001b[0m\n\u001b[1;32m     12\u001b[0m \u001b[0;34m\u001b[0m\u001b[0m\n\u001b[1;32m     13\u001b[0m     \u001b[0;32mfor\u001b[0m \u001b[0mi\u001b[0m \u001b[0;32min\u001b[0m \u001b[0mrange\u001b[0m\u001b[0;34m(\u001b[0m\u001b[0;36m0\u001b[0m\u001b[0;34m,\u001b[0m \u001b[0mint\u001b[0m\u001b[0;34m(\u001b[0m\u001b[0mRATE\u001b[0m \u001b[0;34m/\u001b[0m \u001b[0mCHUNK\u001b[0m \u001b[0;34m*\u001b[0m \u001b[0mRECORD_SECONDS\u001b[0m\u001b[0;34m)\u001b[0m\u001b[0;34m)\u001b[0m\u001b[0;34m:\u001b[0m\u001b[0;34m\u001b[0m\u001b[0m\n\u001b[0;32m---> 14\u001b[0;31m         \u001b[0mdata\u001b[0m \u001b[0;34m=\u001b[0m \u001b[0mstream\u001b[0m\u001b[0;34m.\u001b[0m\u001b[0mread\u001b[0m\u001b[0;34m(\u001b[0m\u001b[0mCHUNK\u001b[0m\u001b[0;34m)\u001b[0m\u001b[0;34m\u001b[0m\u001b[0m\n\u001b[0m\u001b[1;32m     15\u001b[0m         \u001b[0mframes\u001b[0m\u001b[0;34m.\u001b[0m\u001b[0mappend\u001b[0m\u001b[0;34m(\u001b[0m\u001b[0mdata\u001b[0m\u001b[0;34m)\u001b[0m\u001b[0;34m\u001b[0m\u001b[0m\n\u001b[1;32m     16\u001b[0m     \u001b[0mprint\u001b[0m\u001b[0;34m(\u001b[0m\u001b[0;34m\"finished recording\"\u001b[0m\u001b[0;34m)\u001b[0m\u001b[0;34m\u001b[0m\u001b[0m\n",
      "\u001b[0;32m/anaconda/lib/python3.6/site-packages/pyaudio.py\u001b[0m in \u001b[0;36mread\u001b[0;34m(self, num_frames, exception_on_overflow)\u001b[0m\n\u001b[1;32m    606\u001b[0m                           paCanNotReadFromAnOutputOnlyStream)\n\u001b[1;32m    607\u001b[0m \u001b[0;34m\u001b[0m\u001b[0m\n\u001b[0;32m--> 608\u001b[0;31m         \u001b[0;32mreturn\u001b[0m \u001b[0mpa\u001b[0m\u001b[0;34m.\u001b[0m\u001b[0mread_stream\u001b[0m\u001b[0;34m(\u001b[0m\u001b[0mself\u001b[0m\u001b[0;34m.\u001b[0m\u001b[0m_stream\u001b[0m\u001b[0;34m,\u001b[0m \u001b[0mnum_frames\u001b[0m\u001b[0;34m,\u001b[0m \u001b[0mexception_on_overflow\u001b[0m\u001b[0;34m)\u001b[0m\u001b[0;34m\u001b[0m\u001b[0m\n\u001b[0m\u001b[1;32m    609\u001b[0m \u001b[0;34m\u001b[0m\u001b[0m\n\u001b[1;32m    610\u001b[0m     \u001b[0;32mdef\u001b[0m \u001b[0mget_read_available\u001b[0m\u001b[0;34m(\u001b[0m\u001b[0mself\u001b[0m\u001b[0;34m)\u001b[0m\u001b[0;34m:\u001b[0m\u001b[0;34m\u001b[0m\u001b[0m\n",
      "\u001b[0;31mKeyboardInterrupt\u001b[0m: "
     ]
    }
   ],
   "source": [
    "from pyautogui import press, typewrite, hotkey\n",
    "# Had to pip install pyobjc before installing pyautogui\n",
    "import time\n",
    "time.sleep(15)\n",
    "\n",
    "while(True):\n",
    "    pa = PyAudio()\n",
    "    # Start Recording\n",
    "    stream = pa.open(format=FORMAT, channels=CHANNELS,input=True, rate = RATE, frames_per_buffer = CHUNK)\n",
    "    print(\"recording...\")\n",
    "    frames = []\n",
    " \n",
    "    for i in range(0, int(RATE / CHUNK * RECORD_SECONDS)):\n",
    "        data = stream.read(CHUNK)\n",
    "        frames.append(data)\n",
    "    print(\"finished recording\")\n",
    "    # stop Recording\n",
    "    stream.stop_stream()\n",
    "    stream.close()\n",
    "    pa.terminate()\n",
    "    waveFile = wave.open(WAVE_OUTPUT_FILENAME, 'wb')\n",
    "    waveFile.setnchannels(CHANNELS)\n",
    "    waveFile.setsampwidth(pa.get_sample_size(FORMAT))\n",
    "    waveFile.setframerate(RATE)\n",
    "    waveFile.writeframes(b''.join(frames))\n",
    "    waveFile.close()\n",
    "    \n",
    "    temp_df = pd.DataFrame()\n",
    "    data, sampling_rate = librosa.load('direction.wav')\n",
    "    mfccs_mean = np.mean(librosa.feature.mfcc(y=data, sr=sampling_rate, n_mfcc=40).T,axis=0)\n",
    "    temp_df = temp_df.append([mfccs_mean])\n",
    "    pred = model.predict(temp_df)\n",
    "    print(pred)\n",
    "    \n",
    "#     Alternate way of detecting silence using onset_strength\n",
    "#     onset_env = librosa.onset.onset_strength(y=data, sr=sampling_rate,\n",
    "#                                           aggregate=np.median,\n",
    "#                                           fmax=8000, n_mels=256)\n",
    "#     if(onset_env.max()<3):\n",
    "#         continue\n",
    "    \n",
    "    if(pred[0][0]>0.7):\n",
    "#        press('left')\n",
    "        typewrite('left\\n')\n",
    "    elif(pred[0][1]>0.7) :\n",
    "#      press('right')\n",
    "        typewrite('right\\n')\n",
    "#     elif(pred[0][2]>0.7):\n",
    "#         typewrite('quiet\\n')"
   ]
  },
  {
   "cell_type": "raw",
   "metadata": {},
   "source": []
  },
  {
   "cell_type": "code",
   "execution_count": null,
   "metadata": {
    "collapsed": true
   },
   "outputs": [],
   "source": []
  },
  {
   "cell_type": "raw",
   "metadata": {},
   "source": [
    "pred"
   ]
  },
  {
   "cell_type": "markdown",
   "metadata": {},
   "source": [
    "### Using Onset Strength to detect periods of silence"
   ]
  },
  {
   "cell_type": "code",
   "execution_count": null,
   "metadata": {
    "collapsed": true
   },
   "outputs": [],
   "source": [
    "y, sr = librosa.load('DirectionAudio/left5.wav')\n",
    "onset_env = librosa.onset.onset_strength(y=y, sr=sr,\n",
    "                                          aggregate=np.median,\n",
    "                                          fmax=8000, n_mels=256)\n",
    "onset_env"
   ]
  },
  {
   "cell_type": "code",
   "execution_count": null,
   "metadata": {
    "collapsed": true
   },
   "outputs": [],
   "source": [
    "onset_env.max()"
   ]
  },
  {
   "cell_type": "markdown",
   "metadata": {
    "collapsed": true
   },
   "source": [
    "## Trying different ML models"
   ]
  },
  {
   "cell_type": "markdown",
   "metadata": {},
   "source": [
    "### SVM"
   ]
  },
  {
   "cell_type": "code",
   "execution_count": null,
   "metadata": {
    "collapsed": true
   },
   "outputs": [],
   "source": [
    "from sklearn import svm"
   ]
  },
  {
   "cell_type": "code",
   "execution_count": null,
   "metadata": {
    "collapsed": true,
    "scrolled": true
   },
   "outputs": [],
   "source": [
    "data_svm = pd.DataFrame()\n",
    "directory = os.fsencode('../DirectionAudio/')\n",
    "\n",
    "for file in os.listdir(directory):\n",
    "    filename = os.fsdecode(file)\n",
    "    if filename.startswith('left') and filename.endswith('.wav'):\n",
    "        print(os.path.join(directory,file))\n",
    "        data_left, sampling_rate_left = librosa.load(os.path.join(directory,file))\n",
    "        mfccs_mean_left = np.mean(librosa.feature.mfcc(y=data_left, sr=sampling_rate_left, n_mfcc=40).T,axis=0)\n",
    "        data_svm = data_svm.append([np.append(mfccs_mean_left,[0])])\n",
    "    elif filename.startswith('right') and filename.endswith('.wav'):\n",
    "        data_right, sampling_rate_right = librosa.load(os.path.join(directory,file))\n",
    "        mfccs_mean_right = np.mean(librosa.feature.mfcc(y=data_right, sr=sampling_rate_right, n_mfcc=40).T,axis=0)\n",
    "        data_svm = data_svm.append([np.append(mfccs_mean_right,[1])])\n",
    "        print(os.path.join(directory,file))\n",
    "    elif filename.startswith('quiet') and filename.endswith('.wav'):\n",
    "        data_quiet, sampling_rate_quiet = librosa.load(os.path.join(directory,file))\n",
    "        mfccs_mean_quiet = np.mean(librosa.feature.mfcc(y=data_quiet, sr=sampling_rate_quiet, n_mfcc=40).T,axis=0)\n",
    "        data_svm = data_svm.append([np.append(mfccs_mean_quiet,[2])])\n",
    "        print(os.path.join(directory,file))"
   ]
  },
  {
   "cell_type": "code",
   "execution_count": null,
   "metadata": {
    "collapsed": true
   },
   "outputs": [],
   "source": [
    "X = data_svm.iloc[:,0:40].values\n",
    "y = data_svm.iloc[:,-1].values"
   ]
  },
  {
   "cell_type": "code",
   "execution_count": null,
   "metadata": {
    "collapsed": true
   },
   "outputs": [],
   "source": [
    "from sklearn.model_selection import train_test_split\n",
    "X_train,X_test, y_train, y_test = train_test_split(X,y,test_size = 0.1,random_state=0)"
   ]
  },
  {
   "cell_type": "code",
   "execution_count": null,
   "metadata": {
    "collapsed": true
   },
   "outputs": [],
   "source": [
    "clf = svm.SVC(decision_function_shape='ovo')"
   ]
  },
  {
   "cell_type": "code",
   "execution_count": null,
   "metadata": {
    "collapsed": true
   },
   "outputs": [],
   "source": [
    "clf.fit(X_train,y_train)"
   ]
  },
  {
   "cell_type": "code",
   "execution_count": null,
   "metadata": {
    "collapsed": true
   },
   "outputs": [],
   "source": [
    "clf.predict(X_test)"
   ]
  },
  {
   "cell_type": "code",
   "execution_count": null,
   "metadata": {
    "collapsed": true
   },
   "outputs": [],
   "source": [
    "y_test"
   ]
  },
  {
   "cell_type": "markdown",
   "metadata": {},
   "source": [
    "### K-Means"
   ]
  },
  {
   "cell_type": "code",
   "execution_count": null,
   "metadata": {
    "collapsed": true
   },
   "outputs": [],
   "source": [
    "from sklearn.cluster import KMeans"
   ]
  },
  {
   "cell_type": "code",
   "execution_count": null,
   "metadata": {
    "collapsed": true
   },
   "outputs": [],
   "source": [
    "clf  = KMeans(n_clusters=3,init='k-means++',max_iter=500)"
   ]
  },
  {
   "cell_type": "code",
   "execution_count": null,
   "metadata": {
    "collapsed": true
   },
   "outputs": [],
   "source": [
    "clf.fit(X_train)"
   ]
  },
  {
   "cell_type": "code",
   "execution_count": null,
   "metadata": {
    "collapsed": true
   },
   "outputs": [],
   "source": [
    "clf.predict(X_test)"
   ]
  },
  {
   "cell_type": "code",
   "execution_count": null,
   "metadata": {
    "collapsed": true
   },
   "outputs": [],
   "source": [
    "y_test"
   ]
  },
  {
   "cell_type": "code",
   "execution_count": null,
   "metadata": {
    "collapsed": true
   },
   "outputs": [],
   "source": []
  }
 ],
 "metadata": {
  "kernelspec": {
   "display_name": "Python 3",
   "language": "python",
   "name": "python3"
  },
  "language_info": {
   "codemirror_mode": {
    "name": "ipython",
    "version": 3
   },
   "file_extension": ".py",
   "mimetype": "text/x-python",
   "name": "python",
   "nbconvert_exporter": "python",
   "pygments_lexer": "ipython3",
   "version": "3.6.4"
  },
  "widgets": {
   "state": {},
   "version": "1.1.2"
  }
 },
 "nbformat": 4,
 "nbformat_minor": 2
}
